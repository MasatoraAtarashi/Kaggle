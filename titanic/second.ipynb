{
 "cells": [
  {
   "cell_type": "code",
   "execution_count": 1,
   "metadata": {},
   "outputs": [
    {
     "name": "stdout",
     "output_type": "stream",
     "text": [
      "test accuracy 0.8156424581005587 \n",
      "\n",
      "test accuracy 0.7877094972067039 \n",
      "\n",
      "test accuracy 0.7988826815642458 \n",
      "\n",
      "test accuracy 0.7988826815642458 \n",
      "\n",
      "test accuracy 0.8491620111731844 \n",
      "\n",
      "test accuracy 0.7821229050279329 \n",
      "\n",
      "test accuracy 0.7988826815642458 \n",
      "\n",
      "test accuracy 0.776536312849162 \n",
      "\n",
      "test accuracy 0.770949720670391 \n",
      "\n"
     ]
    }
   ],
   "source": [
    "from sklearn.svm import SVC\n",
    "from sklearn.model_selection import train_test_split\n",
    "from sklearn.metrics import accuracy_score\n",
    "import numpy as np # linear algebra\n",
    "import pandas as pd # data processing, CSV file I/O (e.g. pd.read_csv)\n",
    "from sklearn.decomposition import PCA\n",
    "import warnings\n",
    "from sklearn.utils.testing import all_estimators\n",
    "from sklearn.model_selection import KFold\n",
    "from sklearn.model_selection import cross_val_score\n",
    "\n",
    "train_data = pd.read_csv(\"train.csv\")\n",
    "train_data = train_data.fillna(train_data.median())\n",
    "train_data['Family_Size'] = train_data['SibSp'] + train_data['Parch']\n",
    "train_data['Age_Class'] = train_data['Age'] * train_data['Pclass']\n",
    "y = train_data[\"Survived\"]\n",
    "features = [ \"Sex\", 'Family_Size', \"Fare\", \"Embarked\",\"Age_Class\"]\n",
    "x = pd.get_dummies(train_data[features])\n",
    "# x_test = pd.get_dummies(test_data[features])\n",
    "# print(x)\n",
    "\n",
    "from sklearn.preprocessing import StandardScaler\n",
    "scaler = StandardScaler(copy=True, with_mean=True, with_std=True)\n",
    "scaler.fit(x)\n",
    "x = scaler.transform(x)\n",
    "\n",
    "for i in range(0,9):\n",
    "    X_train, X_test, y_train, y_test = train_test_split(x, y, test_size=0.2, shuffle=True)\n",
    "\n",
    "    pca = PCA(svd_solver='randomized',n_components=4, whiten=True).fit(X_train)\n",
    "    X_train_pca = pca.transform(X_train)\n",
    "    X_test_pca = pca.transform(X_test)\n",
    "\n",
    "    clf = SVC(C=10000, cache_size=200, class_weight=None, coef0=0.0,\n",
    "            decision_function_shape='ovr', degree=3, gamma=0.001, kernel='rbf',\n",
    "            max_iter=-1, probability=False, random_state=None, shrinking=True,\n",
    "            tol=0.001, verbose=False)\n",
    "    clf = clf.fit(X_train_pca, y_train)\n",
    "    pred = clf.predict(X_test_pca)\n",
    "    print(\"test accuracy\", accuracy_score(y_test, pred), \"\\n\")"
   ]
  },
  {
   "cell_type": "code",
   "execution_count": null,
   "metadata": {},
   "outputs": [],
   "source": []
  }
 ],
 "metadata": {
  "kernelspec": {
   "display_name": "Python 3",
   "language": "python",
   "name": "python3"
  },
  "language_info": {
   "codemirror_mode": {
    "name": "ipython",
    "version": 3
   },
   "file_extension": ".py",
   "mimetype": "text/x-python",
   "name": "python",
   "nbconvert_exporter": "python",
   "pygments_lexer": "ipython3",
   "version": "3.7.4"
  }
 },
 "nbformat": 4,
 "nbformat_minor": 2
}
